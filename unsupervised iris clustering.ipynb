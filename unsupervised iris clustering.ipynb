{
 "cells": [
  {
   "cell_type": "code",
   "execution_count": 1,
   "id": "34090eba",
   "metadata": {
    "_cell_guid": "b1076dfc-b9ad-4769-8c92-a6c4dae69d19",
    "_uuid": "8f2839f25d086af736a60e9eeb907d3b93b6e0e5",
    "execution": {
     "iopub.execute_input": "2023-04-05T16:24:32.400791Z",
     "iopub.status.busy": "2023-04-05T16:24:32.399612Z",
     "iopub.status.idle": "2023-04-05T16:24:32.422576Z",
     "shell.execute_reply": "2023-04-05T16:24:32.421233Z"
    },
    "papermill": {
     "duration": 0.034154,
     "end_time": "2023-04-05T16:24:32.425645",
     "exception": false,
     "start_time": "2023-04-05T16:24:32.391491",
     "status": "completed"
    },
    "tags": []
   },
   "outputs": [
    {
     "name": "stdout",
     "output_type": "stream",
     "text": [
      "/kaggle/input/iris-flower-dataset/IRIS.csv\n"
     ]
    }
   ],
   "source": [
    "# This Python 3 environment comes with many helpful analytics libraries installed\n",
    "# It is defined by the kaggle/python Docker image: https://github.com/kaggle/docker-python\n",
    "# For example, here's several helpful packages to load\n",
    "\n",
    "import numpy as np # linear algebra\n",
    "import pandas as pd # data processing, CSV file I/O (e.g. pd.read_csv)\n",
    "\n",
    "# Input data files are available in the read-only \"../input/\" directory\n",
    "# For example, running this (by clicking run or pressing Shift+Enter) will list all files under the input directory\n",
    "\n",
    "import os\n",
    "for dirname, _, filenames in os.walk('/kaggle/input'):\n",
    "    for filename in filenames:\n",
    "        print(os.path.join(dirname, filename))\n",
    "\n",
    "# You can write up to 20GB to the current directory (/kaggle/working/) that gets preserved as output when you create a version using \"Save & Run All\" \n",
    "# You can also write temporary files to /kaggle/temp/, but they won't be saved outside of the current session"
   ]
  },
  {
   "cell_type": "code",
   "execution_count": 2,
   "id": "3dbf7f82",
   "metadata": {
    "execution": {
     "iopub.execute_input": "2023-04-05T16:24:32.438650Z",
     "iopub.status.busy": "2023-04-05T16:24:32.438213Z",
     "iopub.status.idle": "2023-04-05T16:24:34.312389Z",
     "shell.execute_reply": "2023-04-05T16:24:34.311479Z"
    },
    "papermill": {
     "duration": 1.88417,
     "end_time": "2023-04-05T16:24:34.315239",
     "exception": false,
     "start_time": "2023-04-05T16:24:32.431069",
     "status": "completed"
    },
    "tags": []
   },
   "outputs": [],
   "source": [
    "# Importing the libraries\n",
    "import numpy as np\n",
    "import pandas as pd\n",
    "import seaborn as sns\n",
    "import matplotlib.pyplot as plt\n",
    "from sklearn import datasets\n",
    "from sklearn.preprocessing import StandardScaler\n",
    "from sklearn.cluster import KMeans"
   ]
  },
  {
   "cell_type": "code",
   "execution_count": 3,
   "id": "e88e2dfe",
   "metadata": {
    "execution": {
     "iopub.execute_input": "2023-04-05T16:24:34.327974Z",
     "iopub.status.busy": "2023-04-05T16:24:34.327036Z",
     "iopub.status.idle": "2023-04-05T16:24:34.365307Z",
     "shell.execute_reply": "2023-04-05T16:24:34.363985Z"
    },
    "papermill": {
     "duration": 0.047854,
     "end_time": "2023-04-05T16:24:34.368281",
     "exception": false,
     "start_time": "2023-04-05T16:24:34.320427",
     "status": "completed"
    },
    "tags": []
   },
   "outputs": [
    {
     "data": {
      "text/html": [
       "<div>\n",
       "<style scoped>\n",
       "    .dataframe tbody tr th:only-of-type {\n",
       "        vertical-align: middle;\n",
       "    }\n",
       "\n",
       "    .dataframe tbody tr th {\n",
       "        vertical-align: top;\n",
       "    }\n",
       "\n",
       "    .dataframe thead th {\n",
       "        text-align: right;\n",
       "    }\n",
       "</style>\n",
       "<table border=\"1\" class=\"dataframe\">\n",
       "  <thead>\n",
       "    <tr style=\"text-align: right;\">\n",
       "      <th></th>\n",
       "      <th>sepal length (cm)</th>\n",
       "      <th>sepal width (cm)</th>\n",
       "      <th>petal length (cm)</th>\n",
       "      <th>petal width (cm)</th>\n",
       "    </tr>\n",
       "  </thead>\n",
       "  <tbody>\n",
       "    <tr>\n",
       "      <th>0</th>\n",
       "      <td>5.1</td>\n",
       "      <td>3.5</td>\n",
       "      <td>1.4</td>\n",
       "      <td>0.2</td>\n",
       "    </tr>\n",
       "    <tr>\n",
       "      <th>1</th>\n",
       "      <td>4.9</td>\n",
       "      <td>3.0</td>\n",
       "      <td>1.4</td>\n",
       "      <td>0.2</td>\n",
       "    </tr>\n",
       "    <tr>\n",
       "      <th>2</th>\n",
       "      <td>4.7</td>\n",
       "      <td>3.2</td>\n",
       "      <td>1.3</td>\n",
       "      <td>0.2</td>\n",
       "    </tr>\n",
       "    <tr>\n",
       "      <th>3</th>\n",
       "      <td>4.6</td>\n",
       "      <td>3.1</td>\n",
       "      <td>1.5</td>\n",
       "      <td>0.2</td>\n",
       "    </tr>\n",
       "    <tr>\n",
       "      <th>4</th>\n",
       "      <td>5.0</td>\n",
       "      <td>3.6</td>\n",
       "      <td>1.4</td>\n",
       "      <td>0.2</td>\n",
       "    </tr>\n",
       "  </tbody>\n",
       "</table>\n",
       "</div>"
      ],
      "text/plain": [
       "   sepal length (cm)  sepal width (cm)  petal length (cm)  petal width (cm)\n",
       "0                5.1               3.5                1.4               0.2\n",
       "1                4.9               3.0                1.4               0.2\n",
       "2                4.7               3.2                1.3               0.2\n",
       "3                4.6               3.1                1.5               0.2\n",
       "4                5.0               3.6                1.4               0.2"
      ]
     },
     "execution_count": 3,
     "metadata": {},
     "output_type": "execute_result"
    }
   ],
   "source": [
    "# Load the iris dataset\n",
    "df = datasets.load_iris()\n",
    "df = pd.DataFrame(df.data, columns = df.feature_names)\n",
    "df.head() # See the first 5 rows"
   ]
  },
  {
   "cell_type": "code",
   "execution_count": 4,
   "id": "13576524",
   "metadata": {
    "execution": {
     "iopub.execute_input": "2023-04-05T16:24:34.380955Z",
     "iopub.status.busy": "2023-04-05T16:24:34.380516Z",
     "iopub.status.idle": "2023-04-05T16:24:34.392370Z",
     "shell.execute_reply": "2023-04-05T16:24:34.391167Z"
    },
    "papermill": {
     "duration": 0.021667,
     "end_time": "2023-04-05T16:24:34.395186",
     "exception": false,
     "start_time": "2023-04-05T16:24:34.373519",
     "status": "completed"
    },
    "tags": []
   },
   "outputs": [
    {
     "data": {
      "text/plain": [
       "sepal length (cm)    0\n",
       "sepal width (cm)     0\n",
       "petal length (cm)    0\n",
       "petal width (cm)     0\n",
       "dtype: int64"
      ]
     },
     "execution_count": 4,
     "metadata": {},
     "output_type": "execute_result"
    }
   ],
   "source": [
    "# To know number of rows and columns\n",
    "df.shape\n",
    "# To find if any null value is present\n",
    "df.isnull().sum()"
   ]
  },
  {
   "cell_type": "code",
   "execution_count": 5,
   "id": "08fa3bdc",
   "metadata": {
    "execution": {
     "iopub.execute_input": "2023-04-05T16:24:34.408178Z",
     "iopub.status.busy": "2023-04-05T16:24:34.407459Z",
     "iopub.status.idle": "2023-04-05T16:24:34.448383Z",
     "shell.execute_reply": "2023-04-05T16:24:34.447036Z"
    },
    "papermill": {
     "duration": 0.050655,
     "end_time": "2023-04-05T16:24:34.451209",
     "exception": false,
     "start_time": "2023-04-05T16:24:34.400554",
     "status": "completed"
    },
    "tags": []
   },
   "outputs": [
    {
     "data": {
      "text/html": [
       "<div>\n",
       "<style scoped>\n",
       "    .dataframe tbody tr th:only-of-type {\n",
       "        vertical-align: middle;\n",
       "    }\n",
       "\n",
       "    .dataframe tbody tr th {\n",
       "        vertical-align: top;\n",
       "    }\n",
       "\n",
       "    .dataframe thead th {\n",
       "        text-align: right;\n",
       "    }\n",
       "</style>\n",
       "<table border=\"1\" class=\"dataframe\">\n",
       "  <thead>\n",
       "    <tr style=\"text-align: right;\">\n",
       "      <th></th>\n",
       "      <th>count</th>\n",
       "      <th>mean</th>\n",
       "      <th>std</th>\n",
       "      <th>min</th>\n",
       "      <th>25%</th>\n",
       "      <th>50%</th>\n",
       "      <th>75%</th>\n",
       "      <th>max</th>\n",
       "    </tr>\n",
       "  </thead>\n",
       "  <tbody>\n",
       "    <tr>\n",
       "      <th>sepal length (cm)</th>\n",
       "      <td>150.0</td>\n",
       "      <td>5.843333</td>\n",
       "      <td>0.828066</td>\n",
       "      <td>4.3</td>\n",
       "      <td>5.1</td>\n",
       "      <td>5.80</td>\n",
       "      <td>6.4</td>\n",
       "      <td>7.9</td>\n",
       "    </tr>\n",
       "    <tr>\n",
       "      <th>sepal width (cm)</th>\n",
       "      <td>150.0</td>\n",
       "      <td>3.057333</td>\n",
       "      <td>0.435866</td>\n",
       "      <td>2.0</td>\n",
       "      <td>2.8</td>\n",
       "      <td>3.00</td>\n",
       "      <td>3.3</td>\n",
       "      <td>4.4</td>\n",
       "    </tr>\n",
       "    <tr>\n",
       "      <th>petal length (cm)</th>\n",
       "      <td>150.0</td>\n",
       "      <td>3.758000</td>\n",
       "      <td>1.765298</td>\n",
       "      <td>1.0</td>\n",
       "      <td>1.6</td>\n",
       "      <td>4.35</td>\n",
       "      <td>5.1</td>\n",
       "      <td>6.9</td>\n",
       "    </tr>\n",
       "    <tr>\n",
       "      <th>petal width (cm)</th>\n",
       "      <td>150.0</td>\n",
       "      <td>1.199333</td>\n",
       "      <td>0.762238</td>\n",
       "      <td>0.1</td>\n",
       "      <td>0.3</td>\n",
       "      <td>1.30</td>\n",
       "      <td>1.8</td>\n",
       "      <td>2.5</td>\n",
       "    </tr>\n",
       "  </tbody>\n",
       "</table>\n",
       "</div>"
      ],
      "text/plain": [
       "                   count      mean       std  min  25%   50%  75%  max\n",
       "sepal length (cm)  150.0  5.843333  0.828066  4.3  5.1  5.80  6.4  7.9\n",
       "sepal width (cm)   150.0  3.057333  0.435866  2.0  2.8  3.00  3.3  4.4\n",
       "petal length (cm)  150.0  3.758000  1.765298  1.0  1.6  4.35  5.1  6.9\n",
       "petal width (cm)   150.0  1.199333  0.762238  0.1  0.3  1.30  1.8  2.5"
      ]
     },
     "execution_count": 5,
     "metadata": {},
     "output_type": "execute_result"
    }
   ],
   "source": [
    "# To see summary statistics\n",
    "df.describe().T"
   ]
  },
  {
   "cell_type": "code",
   "execution_count": 6,
   "id": "846f1f33",
   "metadata": {
    "execution": {
     "iopub.execute_input": "2023-04-05T16:24:34.464660Z",
     "iopub.status.busy": "2023-04-05T16:24:34.464215Z",
     "iopub.status.idle": "2023-04-05T16:24:35.203345Z",
     "shell.execute_reply": "2023-04-05T16:24:35.201992Z"
    },
    "papermill": {
     "duration": 0.749108,
     "end_time": "2023-04-05T16:24:35.206175",
     "exception": false,
     "start_time": "2023-04-05T16:24:34.457067",
     "status": "completed"
    },
    "tags": []
   },
   "outputs": [
    {
     "data": {
      "image/png": "[encoded data removed]",
      "text/plain": [
       "<Figure size 640x480 with 1 Axes>"
      ]
     },
     "metadata": {},
     "output_type": "display_data"
    },
    {
     "data": {
      "image/png": "[encoded data removed]",
      "text/plain": [
       "<Figure size 640x480 with 1 Axes>"
      ]
     },
     "metadata": {},
     "output_type": "display_data"
    },
    {
     "data": {
      "image/png": "[encoded data removed]",
      "text/plain": [
       "<Figure size 640x480 with 1 Axes>"
      ]
     },
     "metadata": {},
     "output_type": "display_data"
    },
    {
     "data": {
      "image/png": "[encoded data removed]",
      "text/plain": [
       "<Figure size 640x480 with 1 Axes>"
      ]
     },
     "metadata": {},
     "output_type": "display_data"
    }
   ],
   "source": [
    "# To find outliers\n",
    "cols = df.columns\n",
    "for i in cols:\n",
    "    sns.boxplot(y=df[i])\n",
    "    plt.show()"
   ]
  },
  {
   "cell_type": "markdown",
   "id": "2f9991df",
   "metadata": {
    "papermill": {
     "duration": 0.006649,
     "end_time": "2023-04-05T16:24:35.219643",
     "exception": false,
     "start_time": "2023-04-05T16:24:35.212994",
     "status": "completed"
    },
    "tags": []
   },
   "source": [
    "From the above boxplot we can say that there are outliers in the column 'sepal width (cm)'"
   ]
  },
  {
   "cell_type": "code",
   "execution_count": 7,
   "id": "4165c7af",
   "metadata": {
    "execution": {
     "iopub.execute_input": "2023-04-05T16:24:35.235164Z",
     "iopub.status.busy": "2023-04-05T16:24:35.234672Z",
     "iopub.status.idle": "2023-04-05T16:24:35.247844Z",
     "shell.execute_reply": "2023-04-05T16:24:35.246923Z"
    },
    "papermill": {
     "duration": 0.023704,
     "end_time": "2023-04-05T16:24:35.250131",
     "exception": false,
     "start_time": "2023-04-05T16:24:35.226427",
     "status": "completed"
    },
    "tags": []
   },
   "outputs": [
    {
     "data": {
      "text/plain": [
       "(146, 4)"
      ]
     },
     "execution_count": 7,
     "metadata": {},
     "output_type": "execute_result"
    }
   ],
   "source": [
    "# To remove outliers from 'sepal width (cm)'\n",
    "q1 = df['sepal width (cm)'].quantile(0.25)\n",
    "q3 = df['sepal width (cm)'].quantile(0.75)\n",
    "iqr = q3 - q1\n",
    "df = df[(df['sepal width (cm)'] >= q1-1.5*iqr) & (df['sepal width (cm)'] <= q3+1.5*iqr)]\n",
    "df.shape # To find out the number of rows and column after outlier treatment"
   ]
  },
  {
   "cell_type": "markdown",
   "id": "d99dab66",
   "metadata": {
    "papermill": {
     "duration": 0.006411,
     "end_time": "2023-04-05T16:24:35.263490",
     "exception": false,
     "start_time": "2023-04-05T16:24:35.257079",
     "status": "completed"
    },
    "tags": []
   },
   "source": [
    "We can see that after outlier treatment the number of roes are reduced to 146 from 150"
   ]
  },
  {
   "cell_type": "code",
   "execution_count": 8,
   "id": "455bb6b3",
   "metadata": {
    "execution": {
     "iopub.execute_input": "2023-04-05T16:24:35.279956Z",
     "iopub.status.busy": "2023-04-05T16:24:35.278809Z",
     "iopub.status.idle": "2023-04-05T16:24:35.463475Z",
     "shell.execute_reply": "2023-04-05T16:24:35.462047Z"
    },
    "papermill": {
     "duration": 0.196695,
     "end_time": "2023-04-05T16:24:35.466990",
     "exception": false,
     "start_time": "2023-04-05T16:24:35.270295",
     "status": "completed"
    },
    "tags": []
   },
   "outputs": [
    {
     "data": {
      "image/png": "[encoded data removed]",
      "text/plain": [
       "<Figure size 640x480 with 1 Axes>"
      ]
     },
     "metadata": {},
     "output_type": "display_data"
    }
   ],
   "source": [
    "# Boxplot for sepal width (cm) after outlier treatment\n",
    "sns.boxplot(y=df['sepal width (cm)'])\n",
    "plt.show()"
   ]
  },
  {
   "cell_type": "code",
   "execution_count": 9,
   "id": "e8ed82d3",
   "metadata": {
    "execution": {
     "iopub.execute_input": "2023-04-05T16:24:35.483263Z",
     "iopub.status.busy": "2023-04-05T16:24:35.482850Z",
     "iopub.status.idle": "2023-04-05T16:24:35.491398Z",
     "shell.execute_reply": "2023-04-05T16:24:35.490509Z"
    },
    "papermill": {
     "duration": 0.019322,
     "end_time": "2023-04-05T16:24:35.493592",
     "exception": false,
     "start_time": "2023-04-05T16:24:35.474270",
     "status": "completed"
    },
    "tags": []
   },
   "outputs": [],
   "source": [
    "# Standardizing to avoid bias\n",
    "standard_scaler = StandardScaler()\n",
    "df_norm = standard_scaler.fit_transform(df)"
   ]
  },
  {
   "cell_type": "code",
   "execution_count": 10,
   "id": "8518c322",
   "metadata": {
    "execution": {
     "iopub.execute_input": "2023-04-05T16:24:35.509640Z",
     "iopub.status.busy": "2023-04-05T16:24:35.508970Z",
     "iopub.status.idle": "2023-04-05T16:24:36.418936Z",
     "shell.execute_reply": "2023-04-05T16:24:36.417575Z"
    },
    "papermill": {
     "duration": 0.921399,
     "end_time": "2023-04-05T16:24:36.421949",
     "exception": false,
     "start_time": "2023-04-05T16:24:35.500550",
     "status": "completed"
    },
    "tags": []
   },
   "outputs": [
    {
     "data": {
      "text/html": [
       "<div>\n",
       "<style scoped>\n",
       "    .dataframe tbody tr th:only-of-type {\n",
       "        vertical-align: middle;\n",
       "    }\n",
       "\n",
       "    .dataframe tbody tr th {\n",
       "        vertical-align: top;\n",
       "    }\n",
       "\n",
       "    .dataframe thead th {\n",
       "        text-align: right;\n",
       "    }\n",
       "</style>\n",
       "<table border=\"1\" class=\"dataframe\">\n",
       "  <thead>\n",
       "    <tr style=\"text-align: right;\">\n",
       "      <th></th>\n",
       "      <th>num_cluster</th>\n",
       "      <th>cluster_errors</th>\n",
       "    </tr>\n",
       "  </thead>\n",
       "  <tbody>\n",
       "    <tr>\n",
       "      <th>0</th>\n",
       "      <td>1</td>\n",
       "      <td>584.000000</td>\n",
       "    </tr>\n",
       "    <tr>\n",
       "      <th>1</th>\n",
       "      <td>2</td>\n",
       "      <td>217.499302</td>\n",
       "    </tr>\n",
       "    <tr>\n",
       "      <th>2</th>\n",
       "      <td>3</td>\n",
       "      <td>134.345832</td>\n",
       "    </tr>\n",
       "    <tr>\n",
       "      <th>3</th>\n",
       "      <td>4</td>\n",
       "      <td>109.578228</td>\n",
       "    </tr>\n",
       "    <tr>\n",
       "      <th>4</th>\n",
       "      <td>5</td>\n",
       "      <td>88.927558</td>\n",
       "    </tr>\n",
       "    <tr>\n",
       "      <th>5</th>\n",
       "      <td>6</td>\n",
       "      <td>77.731235</td>\n",
       "    </tr>\n",
       "    <tr>\n",
       "      <th>6</th>\n",
       "      <td>7</td>\n",
       "      <td>68.718638</td>\n",
       "    </tr>\n",
       "    <tr>\n",
       "      <th>7</th>\n",
       "      <td>8</td>\n",
       "      <td>59.267341</td>\n",
       "    </tr>\n",
       "    <tr>\n",
       "      <th>8</th>\n",
       "      <td>9</td>\n",
       "      <td>52.334842</td>\n",
       "    </tr>\n",
       "    <tr>\n",
       "      <th>9</th>\n",
       "      <td>10</td>\n",
       "      <td>45.795495</td>\n",
       "    </tr>\n",
       "    <tr>\n",
       "      <th>10</th>\n",
       "      <td>11</td>\n",
       "      <td>41.519212</td>\n",
       "    </tr>\n",
       "    <tr>\n",
       "      <th>11</th>\n",
       "      <td>12</td>\n",
       "      <td>37.773571</td>\n",
       "    </tr>\n",
       "    <tr>\n",
       "      <th>12</th>\n",
       "      <td>13</td>\n",
       "      <td>35.307053</td>\n",
       "    </tr>\n",
       "    <tr>\n",
       "      <th>13</th>\n",
       "      <td>14</td>\n",
       "      <td>33.630471</td>\n",
       "    </tr>\n",
       "    <tr>\n",
       "      <th>14</th>\n",
       "      <td>15</td>\n",
       "      <td>31.524919</td>\n",
       "    </tr>\n",
       "    <tr>\n",
       "      <th>15</th>\n",
       "      <td>16</td>\n",
       "      <td>29.562531</td>\n",
       "    </tr>\n",
       "    <tr>\n",
       "      <th>16</th>\n",
       "      <td>17</td>\n",
       "      <td>27.849762</td>\n",
       "    </tr>\n",
       "    <tr>\n",
       "      <th>17</th>\n",
       "      <td>18</td>\n",
       "      <td>26.331660</td>\n",
       "    </tr>\n",
       "    <tr>\n",
       "      <th>18</th>\n",
       "      <td>19</td>\n",
       "      <td>24.870765</td>\n",
       "    </tr>\n",
       "  </tbody>\n",
       "</table>\n",
       "</div>"
      ],
      "text/plain": [
       "    num_cluster  cluster_errors\n",
       "0             1      584.000000\n",
       "1             2      217.499302\n",
       "2             3      134.345832\n",
       "3             4      109.578228\n",
       "4             5       88.927558\n",
       "5             6       77.731235\n",
       "6             7       68.718638\n",
       "7             8       59.267341\n",
       "8             9       52.334842\n",
       "9            10       45.795495\n",
       "10           11       41.519212\n",
       "11           12       37.773571\n",
       "12           13       35.307053\n",
       "13           14       33.630471\n",
       "14           15       31.524919\n",
       "15           16       29.562531\n",
       "16           17       27.849762\n",
       "17           18       26.331660\n",
       "18           19       24.870765"
      ]
     },
     "execution_count": 10,
     "metadata": {},
     "output_type": "execute_result"
    }
   ],
   "source": [
    "#To find the optimal no. of cluster\n",
    "cluster_range = range(1,20)\n",
    "cluster_errors = []\n",
    "\n",
    "for num_cluster in cluster_range:\n",
    "    clusters = KMeans(num_cluster, n_init = 10)\n",
    "    clusters.fit(df_norm)\n",
    "    labels = clusters.labels_\n",
    "    centroids = clusters.cluster_centers_\n",
    "    cluster_errors.append(clusters.inertia_)\n",
    "    \n",
    "clusters_df = pd.DataFrame({'num_cluster': cluster_range, 'cluster_errors': cluster_errors})\n",
    "clusters_df[0:20]"
   ]
  },
  {
   "cell_type": "code",
   "execution_count": 11,
   "id": "c62eb1d5",
   "metadata": {
    "execution": {
     "iopub.execute_input": "2023-04-05T16:24:36.440020Z",
     "iopub.status.busy": "2023-04-05T16:24:36.439558Z",
     "iopub.status.idle": "2023-04-05T16:24:36.701487Z",
     "shell.execute_reply": "2023-04-05T16:24:36.700190Z"
    },
    "papermill": {
     "duration": 0.273888,
     "end_time": "2023-04-05T16:24:36.704356",
     "exception": false,
     "start_time": "2023-04-05T16:24:36.430468",
     "status": "completed"
    },
    "tags": []
   },
   "outputs": [
    {
     "data": {
      "image/png": "[encoded data removed]",
      "text/plain": [
       "<Figure size 1200x600 with 1 Axes>"
      ]
     },
     "metadata": {},
     "output_type": "display_data"
    }
   ],
   "source": [
    "#Ploting elbow curve or sree to find the no. of cluster\n",
    "plt.figure(figsize=(12,6))\n",
    "plt.plot(clusters_df.num_cluster, clusters_df.cluster_errors, marker = 'o') \n",
    "plt.xlabel('Values of K') \n",
    "plt.ylabel('Error') \n",
    "plt.title('The Elbow Method using Distortion') \n",
    "plt.show() "
   ]
  },
  {
   "cell_type": "markdown",
   "id": "676c9426",
   "metadata": {
    "papermill": {
     "duration": 0.007388,
     "end_time": "2023-04-05T16:24:36.719625",
     "exception": false,
     "start_time": "2023-04-05T16:24:36.712237",
     "status": "completed"
    },
    "tags": []
   },
   "source": [
    "From the above elbow curve we can say that '3' is the optimal number of cluster"
   ]
  },
  {
   "cell_type": "code",
   "execution_count": 12,
   "id": "964b9291",
   "metadata": {
    "execution": {
     "iopub.execute_input": "2023-04-05T16:24:36.736739Z",
     "iopub.status.busy": "2023-04-05T16:24:36.736320Z",
     "iopub.status.idle": "2023-04-05T16:24:36.779345Z",
     "shell.execute_reply": "2023-04-05T16:24:36.778080Z"
    },
    "papermill": {
     "duration": 0.054928,
     "end_time": "2023-04-05T16:24:36.782125",
     "exception": false,
     "start_time": "2023-04-05T16:24:36.727197",
     "status": "completed"
    },
    "tags": []
   },
   "outputs": [
    {
     "data": {
      "text/plain": [
       "KMeans(max_iter=50, n_clusters=3)"
      ]
     },
     "execution_count": 12,
     "metadata": {},
     "output_type": "execute_result"
    }
   ],
   "source": [
    "# Creating object of the model and fitting it\n",
    "model = KMeans(n_clusters=3, max_iter=50)\n",
    "model.fit(df)"
   ]
  },
  {
   "cell_type": "code",
   "execution_count": 13,
   "id": "7b7cc037",
   "metadata": {
    "execution": {
     "iopub.execute_input": "2023-04-05T16:24:36.799956Z",
     "iopub.status.busy": "2023-04-05T16:24:36.799530Z",
     "iopub.status.idle": "2023-04-05T16:24:36.818751Z",
     "shell.execute_reply": "2023-04-05T16:24:36.817400Z"
    },
    "papermill": {
     "duration": 0.03168,
     "end_time": "2023-04-05T16:24:36.821781",
     "exception": false,
     "start_time": "2023-04-05T16:24:36.790101",
     "status": "completed"
    },
    "tags": []
   },
   "outputs": [],
   "source": [
    "\n",
    "#analysis of cluster found\n",
    "df.index = pd.RangeIndex(len(df.index))\n",
    "df_km = pd.concat([df, pd.Series(model.labels_)], axis=1)\n",
    "df_km.columns = ['sepal length (cm)', 'sepal width (cm)', 'petal length (cm)', 'petal width (cm)', 'ClusterID']\n",
    "km_clusters_Slength = pd.DataFrame(df_km.groupby(['ClusterID']).agg({'sepal length (cm)':'mean'}))\n",
    "km_clusters_Swidth = pd.DataFrame(df_km.groupby(['ClusterID']).agg({'sepal width (cm)':'mean'}))\n",
    "km_clusters_Plength = pd.DataFrame(df_km.groupby(['ClusterID']).agg({'petal length (cm)':'mean'}))\n",
    "km_clusters_Pwidth = pd.DataFrame(df_km.groupby(['ClusterID']).agg({'petal width (cm)':'mean'}))"
   ]
  },
  {
   "cell_type": "code",
   "execution_count": 14,
   "id": "57c773fe",
   "metadata": {
    "execution": {
     "iopub.execute_input": "2023-04-05T16:24:36.839353Z",
     "iopub.status.busy": "2023-04-05T16:24:36.838938Z",
     "iopub.status.idle": "2023-04-05T16:24:36.853707Z",
     "shell.execute_reply": "2023-04-05T16:24:36.852886Z"
    },
    "papermill": {
     "duration": 0.026472,
     "end_time": "2023-04-05T16:24:36.856201",
     "exception": false,
     "start_time": "2023-04-05T16:24:36.829729",
     "status": "completed"
    },
    "tags": []
   },
   "outputs": [
    {
     "data": {
      "text/html": [
       "<div>\n",
       "<style scoped>\n",
       "    .dataframe tbody tr th:only-of-type {\n",
       "        vertical-align: middle;\n",
       "    }\n",
       "\n",
       "    .dataframe tbody tr th {\n",
       "        vertical-align: top;\n",
       "    }\n",
       "\n",
       "    .dataframe thead th {\n",
       "        text-align: right;\n",
       "    }\n",
       "</style>\n",
       "<table border=\"1\" class=\"dataframe\">\n",
       "  <thead>\n",
       "    <tr style=\"text-align: right;\">\n",
       "      <th></th>\n",
       "      <th>ClusterID</th>\n",
       "      <th>sepal length (cm)_mean</th>\n",
       "      <th>sepal width (cm)_mean</th>\n",
       "      <th>petal length (cm)_mean</th>\n",
       "      <th>petal width (cm)_mean</th>\n",
       "    </tr>\n",
       "  </thead>\n",
       "  <tbody>\n",
       "    <tr>\n",
       "      <th>0</th>\n",
       "      <td>0</td>\n",
       "      <td>4.976596</td>\n",
       "      <td>3.376596</td>\n",
       "      <td>1.461702</td>\n",
       "      <td>0.246809</td>\n",
       "    </tr>\n",
       "    <tr>\n",
       "      <th>1</th>\n",
       "      <td>1</td>\n",
       "      <td>5.916393</td>\n",
       "      <td>2.760656</td>\n",
       "      <td>4.408197</td>\n",
       "      <td>1.440984</td>\n",
       "    </tr>\n",
       "    <tr>\n",
       "      <th>2</th>\n",
       "      <td>2</td>\n",
       "      <td>6.850000</td>\n",
       "      <td>3.073684</td>\n",
       "      <td>5.742105</td>\n",
       "      <td>2.071053</td>\n",
       "    </tr>\n",
       "  </tbody>\n",
       "</table>\n",
       "</div>"
      ],
      "text/plain": [
       "   ClusterID  sepal length (cm)_mean  sepal width (cm)_mean  \\\n",
       "0          0                4.976596               3.376596   \n",
       "1          1                5.916393               2.760656   \n",
       "2          2                6.850000               3.073684   \n",
       "\n",
       "   petal length (cm)_mean  petal width (cm)_mean  \n",
       "0                1.461702               0.246809  \n",
       "1                4.408197               1.440984  \n",
       "2                5.742105               2.071053  "
      ]
     },
     "execution_count": 14,
     "metadata": {},
     "output_type": "execute_result"
    }
   ],
   "source": [
    "df2 = pd.concat([pd.Series([0,1,2]), km_clusters_Slength, km_clusters_Swidth, km_clusters_Plength, km_clusters_Pwidth\n",
    "                ], axis=1)\n",
    "df2.columns = ['ClusterID','sepal length (cm)_mean','sepal width (cm)_mean','petal length (cm)_mean',\n",
    "               'petal width (cm)_mean']\n",
    "df2.head()"
   ]
  },
  {
   "cell_type": "code",
   "execution_count": 15,
   "id": "c20142b0",
   "metadata": {
    "execution": {
     "iopub.execute_input": "2023-04-05T16:24:36.874608Z",
     "iopub.status.busy": "2023-04-05T16:24:36.874178Z",
     "iopub.status.idle": "2023-04-05T16:24:37.070872Z",
     "shell.execute_reply": "2023-04-05T16:24:37.069963Z"
    },
    "papermill": {
     "duration": 0.208736,
     "end_time": "2023-04-05T16:24:37.073256",
     "exception": false,
     "start_time": "2023-04-05T16:24:36.864520",
     "status": "completed"
    },
    "tags": []
   },
   "outputs": [
    {
     "data": {
      "image/png": "[encoded data removed]",
      "text/plain": [
       "<Figure size 640x480 with 1 Axes>"
      ]
     },
     "metadata": {},
     "output_type": "display_data"
    }
   ],
   "source": [
    "sns.countplot(x=df_km.ClusterID)\n",
    "plt.title('Count plot for ClusterID column')\n",
    "plt.show()"
   ]
  },
  {
   "cell_type": "code",
   "execution_count": 16,
   "id": "ee1f48e0",
   "metadata": {
    "execution": {
     "iopub.execute_input": "2023-04-05T16:24:37.092990Z",
     "iopub.status.busy": "2023-04-05T16:24:37.092284Z",
     "iopub.status.idle": "2023-04-05T16:24:37.443749Z",
     "shell.execute_reply": "2023-04-05T16:24:37.442887Z"
    },
    "papermill": {
     "duration": 0.363897,
     "end_time": "2023-04-05T16:24:37.446167",
     "exception": false,
     "start_time": "2023-04-05T16:24:37.082270",
     "status": "completed"
    },
    "tags": []
   },
   "outputs": [
    {
     "data": {
      "image/png": "[encoded data removed]",
      "text/plain": [
       "<Figure size 1000x700 with 1 Axes>"
      ]
     },
     "metadata": {},
     "output_type": "display_data"
    }
   ],
   "source": [
    "# Scatter plot to visualize the clusters\n",
    "plt.figure(figsize=(10,7))\n",
    "sns.scatterplot(x='sepal length (cm)',y='sepal width (cm)', data=df_km, hue='ClusterID', palette=['green','blue','red'])\n",
    "\n",
    "# Plotting the centroids of the clusters\n",
    "plt.scatter(model.cluster_centers_[:, 0], model.cluster_centers_[:,1], \n",
    "            s = 100, c = 'yellow', label = 'Centroids')\n",
    "plt.show()"
   ]
  }
 ],
 "metadata": {
  "kernelspec": {
   "display_name": "Python 3",
   "language": "python",
   "name": "python3"
  },
  "language_info": {
   "codemirror_mode": {
    "name": "ipython",
    "version": 3
   },
   "file_extension": ".py",
   "mimetype": "text/x-python",
   "name": "python",
   "nbconvert_exporter": "python",
   "pygments_lexer": "ipython3",
   "version": "3.7.12"
  },
  "papermill": {
   "default_parameters": {},
   "duration": 16.080457,
   "end_time": "2023-04-05T16:24:38.278724",
   "environment_variables": {},
   "exception": null,
   "input_path": "__notebook__.ipynb",
   "output_path": "__notebook__.ipynb",
   "parameters": {},
   "start_time": "2023-04-05T16:24:22.198267",
   "version": "2.4.0"
  }
 },
 "nbformat": 4,
 "nbformat_minor": 5
}
